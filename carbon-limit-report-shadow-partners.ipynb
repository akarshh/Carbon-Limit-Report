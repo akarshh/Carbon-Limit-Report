{
 "cells": [
  {
   "cell_type": "markdown",
   "id": "a4a8b9a3",
   "metadata": {},
   "source": [
    "# <font color=\"blue\"/> Carbon Limit <img src = \"https://third-party-media.cbinsights.com/1648792_19998_788756_CARBON-LIMIT-LOGO.png\" width=\"200\" align=\"right\"/> \n",
    "\n",
    "##  <font color=\"#800000\"/> 1. Background and Company Overview \n",
    "### <font color =\"black\"/> A climate tech company with a technology that transforms concrete into a permanent Carbon Capture & Storage Solution (CCS). \n",
    "\n",
    "#### <font size=\"6\"/><img src=\"Icons/icons8-staff-50.png\" align=\"left\" width =\"35\"/> &nbsp; 6 &nbsp; \n",
    "\n"
   ]
  },
  {
   "cell_type": "markdown",
   "id": "70459243",
   "metadata": {},
   "source": []
  },
  {
   "cell_type": "code",
   "execution_count": null,
   "id": "0d5f22fa",
   "metadata": {},
   "outputs": [],
   "source": []
  },
  {
   "cell_type": "code",
   "execution_count": null,
   "id": "f471f12d",
   "metadata": {},
   "outputs": [],
   "source": []
  }
 ],
 "metadata": {
  "kernelspec": {
   "display_name": "Python 3 (ipykernel)",
   "language": "python",
   "name": "python3"
  },
  "language_info": {
   "codemirror_mode": {
    "name": "ipython",
    "version": 3
   },
   "file_extension": ".py",
   "mimetype": "text/x-python",
   "name": "python",
   "nbconvert_exporter": "python",
   "pygments_lexer": "ipython3",
   "version": "3.10.8"
  }
 },
 "nbformat": 4,
 "nbformat_minor": 5
}
